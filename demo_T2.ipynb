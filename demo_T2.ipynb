{
 "cells": [
  {
   "cell_type": "code",
   "execution_count": 1,
   "metadata": {},
   "outputs": [
    {
     "name": "stdout",
     "output_type": "stream",
     "text": [
      "--2022-05-31 22:53:07--  http://esgf-data.ucar.edu/thredds/fileServer/esg_dataroot/CMIP6/CMIP/NCAR/CESM2/piControl/r1i1p1f1/Amon/tas/gn/v20190320/tas_Amon_CESM2_piControl_r1i1p1f1_gn_000101-009912.nc\n",
      "Resolving esgf-data.ucar.edu (esgf-data.ucar.edu)... 128.117.181.74\n",
      "Connecting to esgf-data.ucar.edu (esgf-data.ucar.edu)|128.117.181.74|:80... connected.\n",
      "HTTP request sent, awaiting response... 200 200\n",
      "Length: 146087937 (139M) [application/x-netcdf]\n",
      "Saving to: ‘tas_Amon_CESM2_piControl_r1i1p1f1_gn_000101-009912.nc.2’\n",
      "\n",
      "tas_Amon_CESM2_piCo 100%[===================>] 139.32M  28.6MB/s    in 5.4s    \n",
      "\n",
      "2022-05-31 22:53:13 (25.9 MB/s) - ‘tas_Amon_CESM2_piControl_r1i1p1f1_gn_000101-009912.nc.2’ saved [146087937/146087937]\n",
      "\n"
     ]
    }
   ],
   "source": [
    "!wget http://esgf-data.ucar.edu/thredds/fileServer/esg_dataroot/CMIP6/CMIP/NCAR/CESM2/piControl/r1i1p1f1/Amon/tas/gn/v20190320/tas_Amon_CESM2_piControl_r1i1p1f1_gn_000101-009912.nc\n"
   ]
  },
  {
   "cell_type": "code",
   "execution_count": 2,
   "metadata": {},
   "outputs": [
    {
     "name": "stderr",
     "output_type": "stream",
     "text": [
      "/opt/anaconda3/lib/python3.7/site-packages/statsmodels/compat/pandas.py:23: FutureWarning: The Panel class is removed from pandas. Accessing it from the top-level namespace will also be removed in the next version\n",
      "  data_klasses = (pandas.Series, pandas.DataFrame, pandas.Panel)\n"
     ]
    }
   ],
   "source": [
    "import xarray as xr\n",
    "import cartopy.crs as ccrs\n",
    "import cartopy.mpl.ticker as cticker\n",
    "from cartopy.util import add_cyclic_point\n",
    "import matplotlib.pyplot as plt\n",
    "import numpy as np\n",
    "import cftime\n",
    "import statsmodels.api as sm\n",
    "\n",
    "%run arfit_yw.py "
   ]
  },
  {
   "cell_type": "code",
   "execution_count": 3,
   "metadata": {},
   "outputs": [],
   "source": [
    "filename = 'tas_Amon_CESM2_piControl_r1i1p1f1_gn_000101-009912.nc'"
   ]
  },
  {
   "cell_type": "code",
   "execution_count": 4,
   "metadata": {},
   "outputs": [
    {
     "name": "stderr",
     "output_type": "stream",
     "text": [
      "/opt/anaconda3/lib/python3.7/site-packages/xarray/conventions.py:494: SerializationWarning: variable 'tas' has multiple fill values {1e+20, 1e+20}, decoding all values to NaN.\n",
      "  use_cftime=use_cftime,\n"
     ]
    }
   ],
   "source": [
    "ds = xr.open_dataset(filename, decode_times=True, use_cftime=True)"
   ]
  },
  {
   "cell_type": "code",
   "execution_count": 5,
   "metadata": {},
   "outputs": [],
   "source": [
    "### Find annual means and anomalies ###\n",
    "ds_ann_mean=ds.groupby('time.year').mean()"
   ]
  },
  {
   "cell_type": "code",
   "execution_count": 6,
   "metadata": {},
   "outputs": [],
   "source": [
    "ds_ann_anom = ds_ann_mean - ds_ann_mean.mean(dim='year')"
   ]
  },
  {
   "cell_type": "code",
   "execution_count": 7,
   "metadata": {},
   "outputs": [],
   "source": [
    "## ESTIMATE THE AR PARAMETERS ##\n",
    "ntime,nlat,nlon = ds_ann_anom['tas'].shape\n",
    "max_order = 10\n",
    "max_lag = 51\n",
    "acf = np.empty((nlon,nlat,max_lag))\n",
    "acf[:] = np.nan\n",
    "for ny in range(0,nlat,1):\n",
    "    for nx in range(0,nlon,1):\n",
    "            dum = ds_ann_anom.tas[:,ny,nx]\n",
    "            x = dum.values\n",
    "            order,phi,aic_ar,res,varp,aicc,aic,bic = arfit_yw(x,max_order)\n",
    "            rho_0 = np.r_[1, -phi]\n",
    "            arma_process = sm.tsa.ArmaProcess(rho_0) \n",
    "            acf_tmp = sm.tsa.ArmaProcess.acf(arma_process,lags=max_lag) #Theortical \n",
    "            acf[nx,ny,:]= acf_tmp"
   ]
  },
  {
   "cell_type": "code",
   "execution_count": null,
   "metadata": {},
   "outputs": [],
   "source": [
    "## NOW ESTIMATE T2 ##\n",
    "T2 = acf[:,:,0] +2*(acf[:,:,1:]**2).sum(axis=2)"
   ]
  },
  {
   "cell_type": "code",
   "execution_count": null,
   "metadata": {},
   "outputs": [],
   "source": [
    "# Make the figure larger\n",
    "fig = plt.figure(figsize=(11,11))\n",
    "clevs=np.arange(1,10,1)\n",
    "# Set the axes using the specified map projection\n",
    "ax=plt.axes(projection=ccrs.PlateCarree())\n",
    "\n",
    "# Add cyclic point to data\n",
    "data=T2.transpose()\n",
    "data, lons = add_cyclic_point(data, coord=ds['lon'])\n",
    "\n",
    "\n",
    "# Make a filled contour plot\n",
    "cs=ax.contourf(lons, ds['lat'], data,clevs,\n",
    "            transform = ccrs.PlateCarree())\n",
    "\n",
    "# Add coastlines\n",
    "ax.coastlines()\n",
    "\n",
    "# Define the xticks for longitude\n",
    "ax.set_xticks(np.arange(-180,181,60), crs=ccrs.PlateCarree())\n",
    "lon_formatter = cticker.LongitudeFormatter()\n",
    "ax.xaxis.set_major_formatter(lon_formatter)\n",
    "\n",
    "# Define the yticks for latitude\n",
    "ax.set_yticks(np.arange(-90,91,30), crs=ccrs.PlateCarree())\n",
    "lat_formatter = cticker.LatitudeFormatter()\n",
    "ax.yaxis.set_major_formatter(lat_formatter)\n",
    "\n",
    "# Add colorbar\n",
    "cbar = plt.colorbar(cs,label='years')\n",
    "plt.title('CESM2: TAS Predictability Timescale')"
   ]
  },
  {
   "cell_type": "code",
   "execution_count": null,
   "metadata": {},
   "outputs": [],
   "source": []
  }
 ],
 "metadata": {
  "kernelspec": {
   "display_name": "Python 3",
   "language": "python",
   "name": "python3"
  },
  "language_info": {
   "codemirror_mode": {
    "name": "ipython",
    "version": 3
   },
   "file_extension": ".py",
   "mimetype": "text/x-python",
   "name": "python",
   "nbconvert_exporter": "python",
   "pygments_lexer": "ipython3",
   "version": "3.7.3"
  }
 },
 "nbformat": 4,
 "nbformat_minor": 4
}
